{
 "cells": [
  {
   "cell_type": "code",
   "execution_count": 1,
   "metadata": {},
   "outputs": [],
   "source": [
    "import tensorflow as tf \n",
    "from tensorflow import keras\n",
    "import numpy as np \n",
    "import matplotlib.pyplot as plt \n"
   ]
  },
  {
   "cell_type": "markdown",
   "metadata": {},
   "source": [
    "Regularization"
   ]
  },
  {
   "cell_type": "code",
   "execution_count": 3,
   "metadata": {},
   "outputs": [
    {
     "data": {
      "text/plain": [
       "['L1',\n",
       " 'L1L2',\n",
       " 'L2',\n",
       " 'OrthogonalRegularizer',\n",
       " 'Regularizer',\n",
       " 'deserialize',\n",
       " 'get',\n",
       " 'l1',\n",
       " 'l1_l2',\n",
       " 'l2',\n",
       " 'orthogonal_regularizer',\n",
       " 'serialize']"
      ]
     },
     "execution_count": 3,
     "metadata": {},
     "output_type": "execute_result"
    }
   ],
   "source": [
    "[name for name in dir(keras.regularizers) if not name.startswith('_')]"
   ]
  },
  {
   "cell_type": "code",
   "execution_count": 4,
   "metadata": {},
   "outputs": [],
   "source": [
    "rL1 = keras.regularizers.l1(l1=.01)\n",
    "rL2 = keras.regularizers.l2(l2=.01)\n",
    "rL1L2 = keras.regularizers.l1_l2(l1=.01, l2=.01)"
   ]
  },
  {
   "cell_type": "markdown",
   "metadata": {},
   "source": [
    "Ex1"
   ]
  },
  {
   "cell_type": "code",
   "execution_count": 5,
   "metadata": {},
   "outputs": [],
   "source": [
    "#Load date\n",
    "from tensorflow.keras.datasets import fashion_mnist\n",
    "(xTrainSet, yTrainSet), (xTest, yTest) = fashion_mnist.load_data()\n",
    "\n",
    "#Split date\n",
    "from sklearn.model_selection import train_test_split\n",
    "xTrain, xValid, yTrain, yValid = train_test_split(xTrainSet, yTrainSet, random_state=1)\n",
    "\n",
    "#Preprocessing\n",
    "pixelMeans = xTrain.mean(axis=0, keepdims=True)\n",
    "pixelStds = xTrain.std(axis=0, keepdims=True)\n",
    "xTrainScaled = (xTrain - pixelMeans) / pixelStds\n",
    "xValidScaled = (xValid - pixelMeans) / pixelStds\n",
    "xTestScaled = (xTest - pixelMeans) / pixelStds"
   ]
  },
  {
   "cell_type": "code",
   "execution_count": 6,
   "metadata": {},
   "outputs": [],
   "source": [
    "tf.keras.backend.clear_session()\n",
    "np.random.seed(1)\n",
    "tf.random.set_seed(1)"
   ]
  },
  {
   "cell_type": "code",
   "execution_count": 8,
   "metadata": {},
   "outputs": [],
   "source": [
    "rL2 = keras.regularizers.l2(l2=.01)\n",
    "\n",
    "model = keras.models.Sequential([\n",
    "    keras.layers.Flatten(input_shape=[28, 28]),\n",
    "    keras.layers.Dense(300, activation='relu', kernel_initializer='he_normal',kernel_regularizer=rL2),\n",
    "    keras.layers.Dense(100, activation='relu', kernel_initializer='he_normal',kernel_regularizer=rL2),\n",
    "    keras.layers.Dense(10, activation='softmax', kernel_regularizer= rL2)\n",
    "])"
   ]
  },
  {
   "cell_type": "code",
   "execution_count": 10,
   "metadata": {},
   "outputs": [],
   "source": [
    "model.compile (loss = 'sparse_categorical_crossentropy', optimizer ='nadam', metrics = ['accuracy'])"
   ]
  },
  {
   "cell_type": "code",
   "execution_count": 11,
   "metadata": {},
   "outputs": [
    {
     "name": "stdout",
     "output_type": "stream",
     "text": [
      "Epoch 1/2\n"
     ]
    },
    {
     "name": "stderr",
     "output_type": "stream",
     "text": [
      "2024-02-15 18:53:47.372909: W tensorflow/tsl/platform/profile_utils/cpu_utils.cc:128] Failed to get CPU frequency: 0 Hz\n"
     ]
    },
    {
     "name": "stdout",
     "output_type": "stream",
     "text": [
      "1407/1407 [==============================] - 3s 2ms/step - loss: 1.6378 - accuracy: 0.8157 - val_loss: 0.8427 - val_accuracy: 0.7891\n",
      "Epoch 2/2\n",
      "1407/1407 [==============================] - 3s 2ms/step - loss: 0.7343 - accuracy: 0.8277 - val_loss: 0.7216 - val_accuracy: 0.8294\n"
     ]
    }
   ],
   "source": [
    "train = model.fit(xTrainScaled, yTrain, epochs=2, validation_data=(xValidScaled, yValid))"
   ]
  },
  {
   "cell_type": "markdown",
   "metadata": {},
   "source": [
    "Dropout"
   ]
  },
  {
   "cell_type": "code",
   "execution_count": 12,
   "metadata": {},
   "outputs": [],
   "source": [
    "model = keras.models.Sequential([\n",
    "    keras.layers.Flatten(input_shape=[28, 28]),\n",
    "    keras.layers.Dropout(0.2),\n",
    "    keras.layers.Dense(300, activation='relu', kernel_initializer='he_normal'),\n",
    "    keras.layers.Dropout(0.2),\n",
    "    keras.layers.Dense(100, activation='relu', kernel_initializer='he_normal'),\n",
    "    keras.layers.Dropout(0.2),\n",
    "    keras.layers.Dense(10, activation='softmax')\n",
    "])"
   ]
  },
  {
   "cell_type": "code",
   "execution_count": 13,
   "metadata": {},
   "outputs": [],
   "source": [
    "model.compile(loss='sparse_categorical_crossentropy', optimizer='nadam', metrics=['accuracy'])"
   ]
  },
  {
   "cell_type": "code",
   "execution_count": 15,
   "metadata": {},
   "outputs": [
    {
     "name": "stdout",
     "output_type": "stream",
     "text": [
      "Epoch 1/2\n",
      "1407/1407 [==============================] - 3s 2ms/step - loss: 0.5877 - accuracy: 0.7932 - val_loss: 0.4297 - val_accuracy: 0.8392\n",
      "Epoch 2/2\n",
      "1407/1407 [==============================] - 3s 2ms/step - loss: 0.4388 - accuracy: 0.8422 - val_loss: 0.3647 - val_accuracy: 0.8662\n"
     ]
    }
   ],
   "source": [
    "train = model.fit(xTrainScaled, yTrain, epochs=2 ,validation_data=(xValidScaled, yValid))"
   ]
  },
  {
   "cell_type": "code",
   "execution_count": 16,
   "metadata": {},
   "outputs": [
    {
     "name": "stdout",
     "output_type": "stream",
     "text": [
      "313/313 [==============================] - 0s 451us/step - loss: 0.3876 - accuracy: 0.8563\n"
     ]
    },
    {
     "data": {
      "text/plain": [
       "[0.38756951689720154, 0.8562999963760376]"
      ]
     },
     "execution_count": 16,
     "metadata": {},
     "output_type": "execute_result"
    }
   ],
   "source": [
    "model.evaluate(xTestScaled, yTest)"
   ]
  },
  {
   "cell_type": "code",
   "execution_count": 17,
   "metadata": {},
   "outputs": [
    {
     "name": "stdout",
     "output_type": "stream",
     "text": [
      "313/313 [==============================] - 0s 367us/step\n"
     ]
    },
    {
     "data": {
      "text/plain": [
       "array([[0.  , 0.  , 0.  , 0.  , 0.  , 0.02, 0.  , 0.1 , 0.  , 0.88],\n",
       "       [0.  , 0.  , 1.  , 0.  , 0.  , 0.  , 0.  , 0.  , 0.  , 0.  ],\n",
       "       [0.  , 1.  , 0.  , 0.  , 0.  , 0.  , 0.  , 0.  , 0.  , 0.  ]],\n",
       "      dtype=float32)"
      ]
     },
     "execution_count": 17,
     "metadata": {},
     "output_type": "execute_result"
    }
   ],
   "source": [
    "yProba = model.predict(xTestScaled)\n",
    "yProba[:3].round(2)"
   ]
  },
  {
   "cell_type": "code",
   "execution_count": 18,
   "metadata": {},
   "outputs": [
    {
     "data": {
      "text/plain": [
       "array([9, 2, 1])"
      ]
     },
     "execution_count": 18,
     "metadata": {},
     "output_type": "execute_result"
    }
   ],
   "source": [
    "yPred = np.argmax(yProba, axis=1)\n",
    "yPred[:3]"
   ]
  },
  {
   "cell_type": "code",
   "execution_count": 19,
   "metadata": {},
   "outputs": [
    {
     "data": {
      "text/plain": [
       "array([9, 2, 1], dtype=uint8)"
      ]
     },
     "execution_count": 19,
     "metadata": {},
     "output_type": "execute_result"
    }
   ],
   "source": [
    "yTest[:3]"
   ]
  },
  {
   "cell_type": "markdown",
   "metadata": {},
   "source": [
    "MC Dropout"
   ]
  },
  {
   "cell_type": "code",
   "execution_count": 22,
   "metadata": {},
   "outputs": [
    {
     "data": {
      "text/plain": [
       "(100, 3, 10)"
      ]
     },
     "execution_count": 22,
     "metadata": {},
     "output_type": "execute_result"
    }
   ],
   "source": [
    "yProba = np.stack([model(xTestScaled[:3], training=True) for _ in range(100)])\n",
    "yProba.shape"
   ]
  },
  {
   "cell_type": "code",
   "execution_count": 24,
   "metadata": {},
   "outputs": [
    {
     "data": {
      "text/plain": [
       "array([[0.  , 0.  , 0.  , 0.  , 0.  , 0.06, 0.  , 0.16, 0.  , 0.78],\n",
       "       [0.  , 0.  , 0.98, 0.  , 0.01, 0.  , 0.01, 0.  , 0.  , 0.  ],\n",
       "       [0.  , 1.  , 0.  , 0.  , 0.  , 0.  , 0.  , 0.  , 0.  , 0.  ]],\n",
       "      dtype=float32)"
      ]
     },
     "execution_count": 24,
     "metadata": {},
     "output_type": "execute_result"
    }
   ],
   "source": [
    "yProbaMc = yProba.mean(axis=0)\n",
    "np.round(yProbaMc, 2)"
   ]
  },
  {
   "cell_type": "code",
   "execution_count": 25,
   "metadata": {},
   "outputs": [
    {
     "data": {
      "text/plain": [
       "array([9, 2, 1])"
      ]
     },
     "execution_count": 25,
     "metadata": {},
     "output_type": "execute_result"
    }
   ],
   "source": [
    "yPred = np.argmax(yProbaMc, axis=1)\n",
    "yPred"
   ]
  },
  {
   "cell_type": "markdown",
   "metadata": {},
   "source": [
    "Alpha Dropout"
   ]
  },
  {
   "cell_type": "markdown",
   "metadata": {},
   "source": [
    "For selu"
   ]
  },
  {
   "cell_type": "code",
   "execution_count": 26,
   "metadata": {},
   "outputs": [],
   "source": [
    "model = keras.models.Sequential([\n",
    "    keras.layers.Flatten(input_shape=[28, 28]),\n",
    "    keras.layers.AlphaDropout(rate=0.2),\n",
    "    keras.layers.Dense(300, activation='selu', kernel_initializer='lecun_normal'),\n",
    "    keras.layers.AlphaDropout(rate=0.2),\n",
    "    keras.layers.Dense(100, activation='selu', kernel_initializer='lecun_normal'),\n",
    "    keras.layers.AlphaDropout(rate=0.2),\n",
    "    keras.layers.Dense(10, activation='softmax')\n",
    "])"
   ]
  },
  {
   "cell_type": "code",
   "execution_count": 27,
   "metadata": {},
   "outputs": [],
   "source": [
    "model.compile(loss='sparse_categorical_crossentropy', optimizer='nadam', metrics=['accuracy'])"
   ]
  },
  {
   "cell_type": "code",
   "execution_count": 29,
   "metadata": {},
   "outputs": [
    {
     "name": "stdout",
     "output_type": "stream",
     "text": [
      "Epoch 1/2\n",
      "1407/1407 [==============================] - 4s 3ms/step - loss: 0.6690 - accuracy: 0.7609 - val_loss: 0.5866 - val_accuracy: 0.8285\n",
      "Epoch 2/2\n",
      "1407/1407 [==============================] - 4s 3ms/step - loss: 0.5088 - accuracy: 0.8112 - val_loss: 0.4961 - val_accuracy: 0.8527\n"
     ]
    }
   ],
   "source": [
    "train = model.fit(xTrainScaled, yTrain, epochs=2 ,validation_data=(xValidScaled, yValid))"
   ]
  },
  {
   "cell_type": "markdown",
   "metadata": {},
   "source": [
    "Max Norm Regularization"
   ]
  },
  {
   "cell_type": "code",
   "execution_count": 33,
   "metadata": {},
   "outputs": [],
   "source": [
    "model = keras.models.Sequential([\n",
    "    keras.layers.Flatten(input_shape=[28, 28]),\n",
    "    keras.layers.AlphaDropout(rate=0.2),\n",
    "    keras.layers.Dense(300, activation='selu', kernel_initializer='lecun_normal' ,kernel_constraint=keras.constraints.max_norm(1.)),\n",
    "    keras.layers.AlphaDropout(rate=0.2,),\n",
    "    keras.layers.Dense(100, activation='selu', kernel_initializer='lecun_normal', kernel_constraint=keras.constraints.max_norm(1.)),\n",
    "    keras.layers.AlphaDropout(rate=0.2),\n",
    "    keras.layers.Dense(10, activation='softmax')\n",
    "])"
   ]
  },
  {
   "cell_type": "code",
   "execution_count": 34,
   "metadata": {},
   "outputs": [],
   "source": [
    "model.compile(loss='sparse_categorical_crossentropy',optimizer='nadam', metrics=['accuracy'])"
   ]
  },
  {
   "cell_type": "code",
   "execution_count": 35,
   "metadata": {},
   "outputs": [
    {
     "name": "stdout",
     "output_type": "stream",
     "text": [
      "Epoch 1/2\n",
      "1407/1407 [==============================] - 5s 3ms/step - loss: 0.6633 - accuracy: 0.7643 - val_loss: 0.5751 - val_accuracy: 0.8270\n",
      "Epoch 2/2\n",
      "1407/1407 [==============================] - 4s 3ms/step - loss: 0.5164 - accuracy: 0.8092 - val_loss: 0.5076 - val_accuracy: 0.8463\n"
     ]
    }
   ],
   "source": [
    "train = model.fit(xTrainScaled, yTrain, epochs=2,validation_data=(xValidScaled, yValid))"
   ]
  },
  {
   "cell_type": "code",
   "execution_count": null,
   "metadata": {},
   "outputs": [],
   "source": []
  }
 ],
 "metadata": {
  "kernelspec": {
   "display_name": "tensorflow_p311",
   "language": "python",
   "name": "python3"
  },
  "language_info": {
   "codemirror_mode": {
    "name": "ipython",
    "version": 3
   },
   "file_extension": ".py",
   "mimetype": "text/x-python",
   "name": "python",
   "nbconvert_exporter": "python",
   "pygments_lexer": "ipython3",
   "version": "3.11.5"
  }
 },
 "nbformat": 4,
 "nbformat_minor": 2
}
