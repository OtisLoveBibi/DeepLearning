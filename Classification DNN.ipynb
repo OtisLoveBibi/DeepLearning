{
 "cells": [
  {
   "cell_type": "code",
   "execution_count": 1,
   "metadata": {},
   "outputs": [],
   "source": [
    "import numpy as np \n",
    "import pandas as pd \n",
    "import matplotlib.pyplot as plt "
   ]
  },
  {
   "cell_type": "markdown",
   "metadata": {},
   "source": [
    "Data"
   ]
  },
  {
   "cell_type": "code",
   "execution_count": 2,
   "metadata": {},
   "outputs": [],
   "source": [
    "from tensorflow.keras.datasets import fashion_mnist\n",
    "(xTrainSet, yTrainSet),(xTest, yTest) = fashion_mnist.load_data()"
   ]
  },
  {
   "cell_type": "code",
   "execution_count": 3,
   "metadata": {},
   "outputs": [
    {
     "data": {
      "text/plain": [
       "((60000, 28, 28), (60000,), (10000, 28, 28), (10000,))"
      ]
     },
     "execution_count": 3,
     "metadata": {},
     "output_type": "execute_result"
    }
   ],
   "source": [
    "xTrainSet.shape, yTrainSet.shape, xTest.shape, yTest.shape"
   ]
  },
  {
   "cell_type": "code",
   "execution_count": 4,
   "metadata": {},
   "outputs": [
    {
     "name": "stdout",
     "output_type": "stream",
     "text": [
      "9\n"
     ]
    },
    {
     "data": {
      "image/png": "[encoded data removed]",
      "text/plain": [
       "<Figure size 640x480 with 1 Axes>"
      ]
     },
     "metadata": {},
     "output_type": "display_data"
    }
   ],
   "source": [
    "i = 0\n",
    "print(yTrainSet[i])\n",
    "plt.imshow(xTrainSet[i], cmap='binary')\n",
    "plt.show()"
   ]
  },
  {
   "cell_type": "code",
   "execution_count": 5,
   "metadata": {},
   "outputs": [],
   "source": [
    "from sklearn.model_selection import train_test_split\n",
    "\n",
    "xTrain, xValid, yTrain, yValid = train_test_split(xTrainSet, yTrainSet, random_state=1)"
   ]
  },
  {
   "cell_type": "code",
   "execution_count": 6,
   "metadata": {},
   "outputs": [],
   "source": [
    "xTrain = xTrain / 255.0\n",
    "xValid = xValid / 255.0\n",
    "xTest = xTest /255"
   ]
  },
  {
   "cell_type": "markdown",
   "metadata": {},
   "source": [
    "Build Model"
   ]
  },
  {
   "cell_type": "code",
   "execution_count": 7,
   "metadata": {},
   "outputs": [],
   "source": [
    "import tensorflow as tf \n",
    "from tensorflow import keras\n",
    "from tensorflow.keras.models import Sequential\n",
    "from tensorflow.keras.layers import Flatten, Dense\n",
    "\n",
    "keras.backend.clear_session()\n",
    "np.random.seed(1)\n",
    "tf.random.set_seed(1)"
   ]
  },
  {
   "cell_type": "code",
   "execution_count": 8,
   "metadata": {},
   "outputs": [],
   "source": [
    "model= Sequential([\n",
    "    Flatten(input_shape=xTrain.shape[1:]),\n",
    "    Dense(units=300, activation='relu'),\n",
    "    Dense(units=200, activation='relu'),\n",
    "    Dense(units=100, activation='relu'),\n",
    "    Dense(units=10, activation='softmax')\n",
    "])"
   ]
  },
  {
   "cell_type": "code",
   "execution_count": 9,
   "metadata": {},
   "outputs": [
    {
     "name": "stdout",
     "output_type": "stream",
     "text": [
      "Model: \"sequential\"\n",
      "_________________________________________________________________\n",
      " Layer (type)                Output Shape              Param #   \n",
      "=================================================================\n",
      " flatten (Flatten)           (None, 784)               0         \n",
      "                                                                 \n",
      " dense (Dense)               (None, 300)               235500    \n",
      "                                                                 \n",
      " dense_1 (Dense)             (None, 200)               60200     \n",
      "                                                                 \n",
      " dense_2 (Dense)             (None, 100)               20100     \n",
      "                                                                 \n",
      " dense_3 (Dense)             (None, 10)                1010      \n",
      "                                                                 \n",
      "=================================================================\n",
      "Total params: 316810 (1.21 MB)\n",
      "Trainable params: 316810 (1.21 MB)\n",
      "Non-trainable params: 0 (0.00 Byte)\n",
      "_________________________________________________________________\n"
     ]
    }
   ],
   "source": [
    "model.summary()"
   ]
  },
  {
   "cell_type": "markdown",
   "metadata": {},
   "source": [
    "Compile"
   ]
  },
  {
   "cell_type": "code",
   "execution_count": 10,
   "metadata": {},
   "outputs": [],
   "source": [
    "model.compile(loss='sparse_categorical_crossentropy', optimizer='sgd', metrics=['accuracy'])"
   ]
  },
  {
   "cell_type": "markdown",
   "metadata": {},
   "source": [
    "Train"
   ]
  },
  {
   "cell_type": "code",
   "execution_count": 11,
   "metadata": {},
   "outputs": [
    {
     "name": "stdout",
     "output_type": "stream",
     "text": [
      "Epoch 1/20\n",
      "1407/1407 [==============================] - 2s 1ms/step - loss: 0.7825 - accuracy: 0.7422 - val_loss: 0.6101 - val_accuracy: 0.7925\n",
      "Epoch 2/20\n",
      "1407/1407 [==============================] - 2s 1ms/step - loss: 0.5050 - accuracy: 0.8240 - val_loss: 0.5333 - val_accuracy: 0.8088\n",
      "Epoch 3/20\n",
      "1407/1407 [==============================] - 2s 1ms/step - loss: 0.4521 - accuracy: 0.8405 - val_loss: 0.4675 - val_accuracy: 0.8325\n",
      "Epoch 4/20\n",
      "1407/1407 [==============================] - 2s 1ms/step - loss: 0.4204 - accuracy: 0.8515 - val_loss: 0.4298 - val_accuracy: 0.8487\n",
      "Epoch 5/20\n",
      "1407/1407 [==============================] - 2s 1ms/step - loss: 0.3987 - accuracy: 0.8593 - val_loss: 0.8713 - val_accuracy: 0.6851\n",
      "Epoch 6/20\n",
      "1407/1407 [==============================] - 2s 1ms/step - loss: 0.3796 - accuracy: 0.8668 - val_loss: 0.5947 - val_accuracy: 0.8014\n",
      "Epoch 7/20\n",
      "1407/1407 [==============================] - 2s 1ms/step - loss: 0.3623 - accuracy: 0.8706 - val_loss: 0.3942 - val_accuracy: 0.8600\n",
      "Epoch 8/20\n",
      "1407/1407 [==============================] - 2s 1ms/step - loss: 0.3501 - accuracy: 0.8747 - val_loss: 0.4066 - val_accuracy: 0.8491\n",
      "Epoch 9/20\n",
      "1407/1407 [==============================] - 2s 1ms/step - loss: 0.3370 - accuracy: 0.8788 - val_loss: 0.3892 - val_accuracy: 0.8594\n",
      "Epoch 10/20\n",
      "1407/1407 [==============================] - 2s 1ms/step - loss: 0.3268 - accuracy: 0.8816 - val_loss: 0.4568 - val_accuracy: 0.8453\n",
      "Epoch 11/20\n",
      "1407/1407 [==============================] - 2s 1ms/step - loss: 0.3169 - accuracy: 0.8851 - val_loss: 0.3458 - val_accuracy: 0.8749\n",
      "Epoch 12/20\n",
      "1407/1407 [==============================] - 2s 1ms/step - loss: 0.3073 - accuracy: 0.8884 - val_loss: 0.4685 - val_accuracy: 0.8282\n",
      "Epoch 13/20\n",
      "1407/1407 [==============================] - 2s 1ms/step - loss: 0.2994 - accuracy: 0.8910 - val_loss: 0.3881 - val_accuracy: 0.8589\n",
      "Epoch 14/20\n",
      "1407/1407 [==============================] - 2s 1ms/step - loss: 0.2906 - accuracy: 0.8942 - val_loss: 0.3364 - val_accuracy: 0.8777\n",
      "Epoch 15/20\n",
      "1407/1407 [==============================] - 1s 1ms/step - loss: 0.2829 - accuracy: 0.8964 - val_loss: 0.3570 - val_accuracy: 0.8711\n",
      "Epoch 16/20\n",
      "1407/1407 [==============================] - 2s 1ms/step - loss: 0.2767 - accuracy: 0.8991 - val_loss: 0.3422 - val_accuracy: 0.8751\n",
      "Epoch 17/20\n",
      "1407/1407 [==============================] - 2s 1ms/step - loss: 0.2697 - accuracy: 0.9018 - val_loss: 0.3617 - val_accuracy: 0.8712\n",
      "Epoch 18/20\n",
      "1407/1407 [==============================] - 2s 1ms/step - loss: 0.2631 - accuracy: 0.9043 - val_loss: 0.3487 - val_accuracy: 0.8759\n",
      "Epoch 19/20\n",
      "1407/1407 [==============================] - 2s 1ms/step - loss: 0.2566 - accuracy: 0.9068 - val_loss: 0.3152 - val_accuracy: 0.8882\n",
      "Epoch 20/20\n",
      "1407/1407 [==============================] - 2s 1ms/step - loss: 0.2501 - accuracy: 0.9073 - val_loss: 0.3217 - val_accuracy: 0.8860\n"
     ]
    }
   ],
   "source": [
    "train = model.fit(xTrain, yTrain, epochs=20, validation_data=(xValid, yValid))"
   ]
  },
  {
   "cell_type": "code",
   "execution_count": 12,
   "metadata": {},
   "outputs": [
    {
     "data": {
      "image/png": "[encoded data removed]",
      "text/plain": [
       "<Figure size 640x480 with 1 Axes>"
      ]
     },
     "metadata": {},
     "output_type": "display_data"
    }
   ],
   "source": [
    "pd.DataFrame(train.history).plot()\n",
    "plt.grid(True)\n",
    "plt.show()"
   ]
  },
  {
   "cell_type": "markdown",
   "metadata": {},
   "source": [
    "Evaluate"
   ]
  },
  {
   "cell_type": "code",
   "execution_count": 13,
   "metadata": {},
   "outputs": [
    {
     "name": "stdout",
     "output_type": "stream",
     "text": [
      "313/313 [==============================] - 0s 630us/step - loss: 0.3518 - accuracy: 0.8748\n"
     ]
    },
    {
     "data": {
      "text/plain": [
       "[0.3518461287021637, 0.8748000264167786]"
      ]
     },
     "execution_count": 13,
     "metadata": {},
     "output_type": "execute_result"
    }
   ],
   "source": [
    "model.evaluate(xTest, yTest)"
   ]
  },
  {
   "cell_type": "markdown",
   "metadata": {},
   "source": [
    "Predict"
   ]
  },
  {
   "cell_type": "code",
   "execution_count": 14,
   "metadata": {},
   "outputs": [
    {
     "name": "stdout",
     "output_type": "stream",
     "text": [
      "313/313 [==============================] - 0s 605us/step\n"
     ]
    },
    {
     "data": {
      "text/plain": [
       "array([[0.  , 0.  , 0.  , 0.  , 0.  , 0.01, 0.  , 0.06, 0.  , 0.93],\n",
       "       [0.  , 0.  , 0.99, 0.  , 0.  , 0.  , 0.  , 0.  , 0.  , 0.  ],\n",
       "       [0.  , 1.  , 0.  , 0.  , 0.  , 0.  , 0.  , 0.  , 0.  , 0.  ]],\n",
       "      dtype=float32)"
      ]
     },
     "execution_count": 14,
     "metadata": {},
     "output_type": "execute_result"
    }
   ],
   "source": [
    "yProba = model.predict(xTest)\n",
    "yProba[:3].round(2)"
   ]
  },
  {
   "cell_type": "code",
   "execution_count": 15,
   "metadata": {},
   "outputs": [
    {
     "data": {
      "text/plain": [
       "array([9, 2, 1])"
      ]
     },
     "execution_count": 15,
     "metadata": {},
     "output_type": "execute_result"
    }
   ],
   "source": [
    "yPred = np.argmax(yProba, axis=1)\n",
    "yPred[:3]"
   ]
  },
  {
   "cell_type": "code",
   "execution_count": 16,
   "metadata": {},
   "outputs": [
    {
     "data": {
      "text/plain": [
       "array([9, 2, 1], dtype=uint8)"
      ]
     },
     "execution_count": 16,
     "metadata": {},
     "output_type": "execute_result"
    }
   ],
   "source": [
    "yTest[:3]"
   ]
  },
  {
   "cell_type": "code",
   "execution_count": 17,
   "metadata": {},
   "outputs": [
    {
     "data": {
      "text/plain": [
       "array([[813,   0,  13,  36,   4,   2, 119,   0,  13,   0],\n",
       "       [  3, 963,   0,  25,   3,   0,   5,   0,   1,   0],\n",
       "       [ 13,   1, 767,  20,  87,   0, 108,   0,   4,   0],\n",
       "       [ 14,   5,   7, 924,  17,   0,  26,   0,   7,   0],\n",
       "       [  0,   1,  91,  63, 757,   0,  81,   0,   7,   0],\n",
       "       [  0,   0,   0,   1,   0, 945,   0,  41,   2,  11],\n",
       "       [101,   1,  65,  34,  54,   0, 724,   0,  21,   0],\n",
       "       [  0,   0,   0,   0,   0,  15,   0, 975,   1,   9],\n",
       "       [  2,   0,   2,   8,   3,   2,   3,   6, 974,   0],\n",
       "       [  0,   0,   0,   0,   0,  15,   1,  78,   0, 906]])"
      ]
     },
     "execution_count": 17,
     "metadata": {},
     "output_type": "execute_result"
    }
   ],
   "source": [
    "from sklearn.metrics import confusion_matrix\n",
    "\n",
    "confusion_matrix(yTest, yPred)"
   ]
  },
  {
   "cell_type": "code",
   "execution_count": null,
   "metadata": {},
   "outputs": [],
   "source": []
  }
 ],
 "metadata": {
  "kernelspec": {
   "display_name": "py312",
   "language": "python",
   "name": "python3"
  },
  "language_info": {
   "codemirror_mode": {
    "name": "ipython",
    "version": 3
   },
   "file_extension": ".py",
   "mimetype": "text/x-python",
   "name": "python",
   "nbconvert_exporter": "python",
   "pygments_lexer": "ipython3",
   "version": "3.11.5"
  }
 },
 "nbformat": 4,
 "nbformat_minor": 2
}
