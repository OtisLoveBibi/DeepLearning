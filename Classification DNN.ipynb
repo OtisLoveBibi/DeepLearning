{
 "cells": [
  {
   "cell_type": "code",
   "execution_count": 3,
   "metadata": {},
   "outputs": [],
   "source": [
    "import numpy as np \n",
    "import pandas as pd \n",
    "import matplotlib.pyplot as plt "
   ]
  },
  {
   "cell_type": "markdown",
   "metadata": {},
   "source": [
    "Data"
   ]
  },
  {
   "cell_type": "code",
   "execution_count": 4,
   "metadata": {},
   "outputs": [],
   "source": [
    "from tensorflow.keras.datasets import fashion_mnist\n",
    "(xTrainSet, yTrainSet),(xTest, yTest) = fashion_mnist.load_data()"
   ]
  },
  {
   "cell_type": "code",
   "execution_count": 5,
   "metadata": {},
   "outputs": [
    {
     "data": {
      "text/plain": [
       "((60000, 28, 28), (60000,), (10000, 28, 28), (10000,))"
      ]
     },
     "execution_count": 5,
     "metadata": {},
     "output_type": "execute_result"
    }
   ],
   "source": [
    "xTrainSet.shape, yTrainSet.shape, xTest.shape, yTest.shape"
   ]
  },
  {
   "cell_type": "code",
   "execution_count": 6,
   "metadata": {},
   "outputs": [
    {
     "name": "stdout",
     "output_type": "stream",
     "text": [
      "9\n"
     ]
    },
    {
     "data": {
      "image/png": "[encoded data removed]",
      "text/plain": [
       "<Figure size 640x480 with 1 Axes>"
      ]
     },
     "metadata": {},
     "output_type": "display_data"
    }
   ],
   "source": [
    "i = 0\n",
    "print(yTrainSet[i])\n",
    "plt.imshow(xTrainSet[i], cmap='binary')\n",
    "plt.show()"
   ]
  },
  {
   "cell_type": "code",
   "execution_count": 7,
   "metadata": {},
   "outputs": [],
   "source": [
    "from sklearn.model_selection import train_test_split\n",
    "\n",
    "xTrain, xValid, yTrain, yValid = train_test_split(xTrainSet, yTrainSet, random_state=1)"
   ]
  },
  {
   "cell_type": "code",
   "execution_count": 8,
   "metadata": {},
   "outputs": [],
   "source": [
    "xTrain = xTrain / 255.0\n",
    "xValid = xValid / 255.0\n",
    "xTest = xTest /255"
   ]
  },
  {
   "cell_type": "markdown",
   "metadata": {},
   "source": [
    "Build Model"
   ]
  },
  {
   "cell_type": "code",
   "execution_count": 9,
   "metadata": {},
   "outputs": [],
   "source": [
    "import tensorflow as tf \n",
    "from tensorflow import keras\n",
    "from tensorflow.keras.models import Sequential\n",
    "from tensorflow.keras.layers import Flatten, Dense\n",
    "\n",
    "keras.backend.clear_session()\n",
    "np.random.seed(1)\n",
    "tf.random.set_seed(1)"
   ]
  },
  {
   "cell_type": "code",
   "execution_count": 10,
   "metadata": {},
   "outputs": [],
   "source": [
    "model= Sequential([\n",
    "    Flatten(input_shape=xTrain.shape[1:]),\n",
    "    Dense(units=300, activation='relu'),\n",
    "    Dense(units=200, activation='relu'),\n",
    "    Dense(units=100, activation='relu'),\n",
    "    Dense(units=10, activation='softmax')\n",
    "])"
   ]
  },
  {
   "cell_type": "code",
   "execution_count": 11,
   "metadata": {},
   "outputs": [
    {
     "name": "stdout",
     "output_type": "stream",
     "text": [
      "Model: \"sequential\"\n",
      "_________________________________________________________________\n",
      " Layer (type)                Output Shape              Param #   \n",
      "=================================================================\n",
      " flatten (Flatten)           (None, 784)               0         \n",
      "                                                                 \n",
      " dense (Dense)               (None, 300)               235500    \n",
      "                                                                 \n",
      " dense_1 (Dense)             (None, 200)               60200     \n",
      "                                                                 \n",
      " dense_2 (Dense)             (None, 100)               20100     \n",
      "                                                                 \n",
      " dense_3 (Dense)             (None, 10)                1010      \n",
      "                                                                 \n",
      "=================================================================\n",
      "Total params: 316810 (1.21 MB)\n",
      "Trainable params: 316810 (1.21 MB)\n",
      "Non-trainable params: 0 (0.00 Byte)\n",
      "_________________________________________________________________\n"
     ]
    }
   ],
   "source": [
    "model.summary()"
   ]
  },
  {
   "cell_type": "markdown",
   "metadata": {},
   "source": [
    "Compile"
   ]
  },
  {
   "cell_type": "code",
   "execution_count": 12,
   "metadata": {},
   "outputs": [],
   "source": [
    "model.compile(loss='sparse_categorical_crossentropy', optimizer='sgd', metrics=['accuracy'])"
   ]
  },
  {
   "cell_type": "markdown",
   "metadata": {},
   "source": [
    "Train"
   ]
  },
  {
   "cell_type": "code",
   "execution_count": 13,
   "metadata": {},
   "outputs": [
    {
     "name": "stdout",
     "output_type": "stream",
     "text": [
      "Epoch 1/20\n",
      "1407/1407 [==============================] - 2s 1ms/step - loss: 0.7858 - accuracy: 0.7416 - val_loss: 0.6317 - val_accuracy: 0.7839\n",
      "Epoch 2/20\n",
      "1407/1407 [==============================] - 1s 988us/step - loss: 0.5013 - accuracy: 0.8244 - val_loss: 0.5062 - val_accuracy: 0.8190\n",
      "Epoch 3/20\n",
      "1407/1407 [==============================] - 1s 955us/step - loss: 0.4493 - accuracy: 0.8408 - val_loss: 0.4682 - val_accuracy: 0.8338\n",
      "Epoch 4/20\n",
      "1407/1407 [==============================] - 1s 1ms/step - loss: 0.4179 - accuracy: 0.8530 - val_loss: 0.4253 - val_accuracy: 0.8485\n",
      "Epoch 5/20\n",
      "1407/1407 [==============================] - 1s 990us/step - loss: 0.3953 - accuracy: 0.8607 - val_loss: 0.9948 - val_accuracy: 0.6657\n",
      "Epoch 6/20\n",
      "1407/1407 [==============================] - 1s 968us/step - loss: 0.3761 - accuracy: 0.8664 - val_loss: 0.6309 - val_accuracy: 0.7977\n",
      "Epoch 7/20\n",
      "1407/1407 [==============================] - 1s 921us/step - loss: 0.3586 - accuracy: 0.8719 - val_loss: 0.3883 - val_accuracy: 0.8610\n",
      "Epoch 8/20\n",
      "1407/1407 [==============================] - 1s 909us/step - loss: 0.3463 - accuracy: 0.8764 - val_loss: 0.3966 - val_accuracy: 0.8539\n",
      "Epoch 9/20\n",
      "1407/1407 [==============================] - 1s 906us/step - loss: 0.3335 - accuracy: 0.8790 - val_loss: 0.3744 - val_accuracy: 0.8634\n",
      "Epoch 10/20\n",
      "1407/1407 [==============================] - 1s 912us/step - loss: 0.3237 - accuracy: 0.8819 - val_loss: 0.4784 - val_accuracy: 0.8384\n",
      "Epoch 11/20\n",
      "1407/1407 [==============================] - 1s 946us/step - loss: 0.3140 - accuracy: 0.8857 - val_loss: 0.3497 - val_accuracy: 0.8756\n",
      "Epoch 12/20\n",
      "1407/1407 [==============================] - 1s 924us/step - loss: 0.3048 - accuracy: 0.8900 - val_loss: 0.4603 - val_accuracy: 0.8304\n",
      "Epoch 13/20\n",
      "1407/1407 [==============================] - 1s 924us/step - loss: 0.2972 - accuracy: 0.8919 - val_loss: 0.3438 - val_accuracy: 0.8739\n",
      "Epoch 14/20\n",
      "1407/1407 [==============================] - 1s 939us/step - loss: 0.2883 - accuracy: 0.8964 - val_loss: 0.3410 - val_accuracy: 0.8754\n",
      "Epoch 15/20\n",
      "1407/1407 [==============================] - 1s 928us/step - loss: 0.2809 - accuracy: 0.8982 - val_loss: 0.3641 - val_accuracy: 0.8643\n",
      "Epoch 16/20\n",
      "1407/1407 [==============================] - 1s 924us/step - loss: 0.2745 - accuracy: 0.8999 - val_loss: 0.3475 - val_accuracy: 0.8702\n",
      "Epoch 17/20\n",
      "1407/1407 [==============================] - 1s 923us/step - loss: 0.2687 - accuracy: 0.9022 - val_loss: 0.3699 - val_accuracy: 0.8687\n",
      "Epoch 18/20\n",
      "1407/1407 [==============================] - 1s 979us/step - loss: 0.2615 - accuracy: 0.9044 - val_loss: 0.3480 - val_accuracy: 0.8751\n",
      "Epoch 19/20\n",
      "1407/1407 [==============================] - 1s 964us/step - loss: 0.2556 - accuracy: 0.9072 - val_loss: 0.3298 - val_accuracy: 0.8831\n",
      "Epoch 20/20\n",
      "1407/1407 [==============================] - 1s 929us/step - loss: 0.2486 - accuracy: 0.9094 - val_loss: 0.3137 - val_accuracy: 0.8863\n"
     ]
    }
   ],
   "source": [
    "train = model.fit(xTrain, yTrain, epochs=20, validation_data=(xValid, yValid))"
   ]
  },
  {
   "cell_type": "code",
   "execution_count": 14,
   "metadata": {},
   "outputs": [
    {
     "data": {
      "image/png": "[encoded data removed]",
      "text/plain": [
       "<Figure size 640x480 with 1 Axes>"
      ]
     },
     "metadata": {},
     "output_type": "display_data"
    }
   ],
   "source": [
    "pd.DataFrame(train.history).plot()\n",
    "plt.grid(True)\n",
    "plt.show()"
   ]
  },
  {
   "cell_type": "markdown",
   "metadata": {},
   "source": [
    "Evaluate"
   ]
  },
  {
   "cell_type": "code",
   "execution_count": 15,
   "metadata": {},
   "outputs": [
    {
     "name": "stdout",
     "output_type": "stream",
     "text": [
      "313/313 [==============================] - 0s 771us/step - loss: 0.3488 - accuracy: 0.8780\n"
     ]
    },
    {
     "data": {
      "text/plain": [
       "[0.34881994128227234, 0.878000020980835]"
      ]
     },
     "execution_count": 15,
     "metadata": {},
     "output_type": "execute_result"
    }
   ],
   "source": [
    "model.evaluate(xTest, yTest)"
   ]
  },
  {
   "cell_type": "markdown",
   "metadata": {},
   "source": [
    "Predict"
   ]
  },
  {
   "cell_type": "code",
   "execution_count": 16,
   "metadata": {},
   "outputs": [
    {
     "name": "stdout",
     "output_type": "stream",
     "text": [
      "313/313 [==============================] - 0s 413us/step\n"
     ]
    },
    {
     "data": {
      "text/plain": [
       "array([[0.  , 0.  , 0.  , 0.  , 0.  , 0.01, 0.  , 0.07, 0.  , 0.93],\n",
       "       [0.  , 0.  , 1.  , 0.  , 0.  , 0.  , 0.  , 0.  , 0.  , 0.  ],\n",
       "       [0.  , 1.  , 0.  , 0.  , 0.  , 0.  , 0.  , 0.  , 0.  , 0.  ]],\n",
       "      dtype=float32)"
      ]
     },
     "execution_count": 16,
     "metadata": {},
     "output_type": "execute_result"
    }
   ],
   "source": [
    "yProba = model.predict(xTest)\n",
    "yProba[:3].round(2)"
   ]
  },
  {
   "cell_type": "code",
   "execution_count": 17,
   "metadata": {},
   "outputs": [
    {
     "data": {
      "text/plain": [
       "array([9, 2, 1])"
      ]
     },
     "execution_count": 17,
     "metadata": {},
     "output_type": "execute_result"
    }
   ],
   "source": [
    "yPred = np.argmax(yProba, axis=1)\n",
    "yPred[:3]"
   ]
  },
  {
   "cell_type": "code",
   "execution_count": 18,
   "metadata": {},
   "outputs": [
    {
     "data": {
      "text/plain": [
       "array([9, 2, 1], dtype=uint8)"
      ]
     },
     "execution_count": 18,
     "metadata": {},
     "output_type": "execute_result"
    }
   ],
   "source": [
    "yTest[:3]"
   ]
  },
  {
   "cell_type": "code",
   "execution_count": 19,
   "metadata": {},
   "outputs": [
    {
     "data": {
      "text/plain": [
       "array([[813,   2,  17,  42,   2,   1, 111,   0,  12,   0],\n",
       "       [  2, 968,   0,  22,   2,   0,   5,   0,   1,   0],\n",
       "       [ 14,   1, 771,  20,  69,   0, 120,   0,   5,   0],\n",
       "       [ 16,   8,   7, 920,  14,   1,  29,   0,   5,   0],\n",
       "       [  0,   0, 108,  52, 749,   0,  85,   0,   6,   0],\n",
       "       [  0,   0,   0,   1,   0, 958,   0,  30,   2,   9],\n",
       "       [105,   1,  59,  37,  53,   0, 730,   0,  15,   0],\n",
       "       [  0,   0,   0,   0,   0,  18,   0, 972,   0,  10],\n",
       "       [  4,   1,   2,   6,   5,   3,   6,   5, 968,   0],\n",
       "       [  0,   0,   0,   1,   0,  10,   1,  57,   0, 931]])"
      ]
     },
     "execution_count": 19,
     "metadata": {},
     "output_type": "execute_result"
    }
   ],
   "source": [
    "from sklearn.metrics import confusion_matrix\n",
    "\n",
    "confusion_matrix(yTest, yPred)"
   ]
  },
  {
   "cell_type": "code",
   "execution_count": null,
   "metadata": {},
   "outputs": [],
   "source": []
  }
 ],
 "metadata": {
  "kernelspec": {
   "display_name": "py312",
   "language": "python",
   "name": "python3"
  },
  "language_info": {
   "codemirror_mode": {
    "name": "ipython",
    "version": 3
   },
   "file_extension": ".py",
   "mimetype": "text/x-python",
   "name": "python",
   "nbconvert_exporter": "python",
   "pygments_lexer": "ipython3",
   "version": "3.11.5"
  }
 },
 "nbformat": 4,
 "nbformat_minor": 2
}
