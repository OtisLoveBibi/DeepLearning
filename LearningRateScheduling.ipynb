{
 "cells": [
  {
   "cell_type": "markdown",
   "metadata": {},
   "source": [
    "Learning Rate Scheduling"
   ]
  },
  {
   "cell_type": "code",
   "execution_count": 1,
   "metadata": {},
   "outputs": [],
   "source": [
    "import tensorflow as tf\n",
    "from tensorflow import keras \n",
    "import numpy as np \n",
    "import matplotlib.pyplot as plt"
   ]
  },
  {
   "cell_type": "code",
   "execution_count": 2,
   "metadata": {},
   "outputs": [
    {
     "data": {
      "text/plain": [
       "['CosineDecay',\n",
       " 'CosineDecayRestarts',\n",
       " 'ExponentialDecay',\n",
       " 'InverseTimeDecay',\n",
       " 'LearningRateSchedule',\n",
       " 'PiecewiseConstantDecay',\n",
       " 'PolynomialDecay',\n",
       " 'deserialize',\n",
       " 'serialize']"
      ]
     },
     "execution_count": 2,
     "metadata": {},
     "output_type": "execute_result"
    }
   ],
   "source": [
    "[name for name in dir(keras.optimizers.schedules)if not name.startswith('_')]"
   ]
  },
  {
   "cell_type": "markdown",
   "metadata": {},
   "source": [
    "1. Polynomial Decay"
   ]
  },
  {
   "cell_type": "code",
   "execution_count": 3,
   "metadata": {},
   "outputs": [],
   "source": [
    "lrPoly = tf.keras.optimizers.schedules.PolynomialDecay(\n",
    "    initial_learning_rate=(.1),\n",
    "    decay_steps=1000,\n",
    "    end_learning_rate=0.0001,\n",
    "    power=0.5,\n",
    "    cycle=False\n",
    ")"
   ]
  },
  {
   "cell_type": "markdown",
   "metadata": {},
   "source": [
    "2. Exponential Decay"
   ]
  },
  {
   "cell_type": "code",
   "execution_count": 4,
   "metadata": {},
   "outputs": [],
   "source": [
    "lrExp = tf.keras.optimizers.schedules.ExponentialDecay(initial_learning_rate=0.1, decay_steps=100000, decay_rate=.96)"
   ]
  },
  {
   "cell_type": "markdown",
   "metadata": {},
   "source": [
    "3. Piecewise Constant Decay"
   ]
  },
  {
   "cell_type": "code",
   "execution_count": 5,
   "metadata": {},
   "outputs": [],
   "source": [
    "lrPcd = tf.keras.optimizers.schedules.PiecewiseConstantDecay(boundaries=[100000,110000], values=[1.0, 0.5, 0.1])"
   ]
  },
  {
   "cell_type": "markdown",
   "metadata": {},
   "source": [
    "Ex"
   ]
  },
  {
   "cell_type": "code",
   "execution_count": 6,
   "metadata": {},
   "outputs": [],
   "source": [
    "#Load data\n",
    "from tensorflow.keras.datasets import fashion_mnist\n",
    "(xTrainSet, yTrainSet), (xTest, yTest) = fashion_mnist.load_data()\n",
    "\n",
    "#Split data\n",
    "from sklearn.model_selection import train_test_split\n",
    "xTrain, xValid ,yTrain, yValid = train_test_split(xTrainSet, yTrainSet, random_state=1)\n",
    "\n",
    "#Preprocessing\n",
    "pixelMeans = xTrain.mean(axis=0, keepdims=True)\n",
    "pixelStds = xTrain.std(axis=0, keepdims=True)\n",
    "xTrainScaled = (xTrain - pixelMeans) / pixelStds\n",
    "xValidScaled = (xValid - pixelMeans) / pixelStds\n",
    "xTestScaled = (xTest - pixelMeans) / pixelStds"
   ]
  },
  {
   "cell_type": "code",
   "execution_count": 7,
   "metadata": {},
   "outputs": [],
   "source": [
    "tf.keras.backend.clear_session()\n",
    "np.random.seed(1)\n",
    "tf.random.set_seed(1)"
   ]
  },
  {
   "cell_type": "code",
   "execution_count": 8,
   "metadata": {},
   "outputs": [],
   "source": [
    "model = keras.models.Sequential([\n",
    "    keras.layers.Flatten(input_shape=(28, 28)),\n",
    "    keras.layers.Dense(300, activation='selu', kernel_initializer='lecun_normal'),\n",
    "    keras.layers.Dense(100, activation='selu', kernel_initializer='lecun_normal'),\n",
    "    keras.layers.Dense(10, activation='softmax')\n",
    "])"
   ]
  },
  {
   "cell_type": "code",
   "execution_count": 9,
   "metadata": {},
   "outputs": [
    {
     "name": "stderr",
     "output_type": "stream",
     "text": [
      "WARNING:absl:At this time, the v2.11+ optimizer `tf.keras.optimizers.SGD` runs slowly on M1/M2 Macs, please use the legacy Keras optimizer instead, located at `tf.keras.optimizers.legacy.SGD`.\n",
      "WARNING:absl:There is a known slowdown when using v2.11+ Keras optimizers on M1/M2 Macs. Falling back to the legacy Keras optimizer, i.e., `tf.keras.optimizers.legacy.SGD`.\n"
     ]
    }
   ],
   "source": [
    "lrExp = tf.keras.optimizers.schedules.ExponentialDecay(initial_learning_rate=.1, decay_steps=100000, decay_rate=.96)\n",
    "\n",
    "model.compile(loss='sparse_categorical_crossentropy', optimizer=tf.keras.optimizers.SGD(learning_rate=lrExp), metrics=['accuracy'])"
   ]
  },
  {
   "cell_type": "code",
   "execution_count": 10,
   "metadata": {},
   "outputs": [
    {
     "name": "stdout",
     "output_type": "stream",
     "text": [
      "Epoch 1/2\n"
     ]
    },
    {
     "name": "stderr",
     "output_type": "stream",
     "text": [
      "2024-02-04 13:13:00.486406: W tensorflow/tsl/platform/profile_utils/cpu_utils.cc:128] Failed to get CPU frequency: 0 Hz\n"
     ]
    },
    {
     "name": "stdout",
     "output_type": "stream",
     "text": [
      "1407/1407 [==============================] - 2s 1ms/step - loss: 0.5141 - accuracy: 0.8204 - val_loss: 0.6907 - val_accuracy: 0.7621\n",
      "Epoch 2/2\n",
      "1407/1407 [==============================] - 1s 931us/step - loss: 0.3797 - accuracy: 0.8611 - val_loss: 0.4455 - val_accuracy: 0.8477\n"
     ]
    }
   ],
   "source": [
    "train = model.fit(xTrainScaled, yTrain, epochs=2, validation_data=(xValidScaled, yValid))"
   ]
  },
  {
   "cell_type": "code",
   "execution_count": null,
   "metadata": {},
   "outputs": [],
   "source": []
  }
 ],
 "metadata": {
  "kernelspec": {
   "display_name": "tensorflow_p311",
   "language": "python",
   "name": "python3"
  },
  "language_info": {
   "codemirror_mode": {
    "name": "ipython",
    "version": 3
   },
   "file_extension": ".py",
   "mimetype": "text/x-python",
   "name": "python",
   "nbconvert_exporter": "python",
   "pygments_lexer": "ipython3",
   "version": "3.11.5"
  }
 },
 "nbformat": 4,
 "nbformat_minor": 2
}
